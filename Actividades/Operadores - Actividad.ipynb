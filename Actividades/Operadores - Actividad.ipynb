{
 "cells": [
  {
   "cell_type": "markdown",
   "metadata": {},
   "source": [
    "## Operadores - Actividad"
   ]
  },
  {
   "cell_type": "markdown",
   "metadata": {},
   "source": [
    "1) Pedir al usuario dos números y mostrar por pantalla la suma de ellos."
   ]
  },
  {
   "cell_type": "code",
   "execution_count": 5,
   "metadata": {},
   "outputs": [
    {
     "name": "stdout",
     "output_type": "stream",
     "text": [
      "11\n"
     ]
    }
   ],
   "source": [
    "var1 = input(\"ingrese un numero\")\n",
    "var2 = input(\"ingrese un numero\")\n",
    "\n",
    "suma = int(var1) + int(var2)\n",
    "print(suma)\n"
   ]
  },
  {
   "cell_type": "markdown",
   "metadata": {},
   "source": [
    "2) Calcular el perímetro y área de un rectángulo dada su base y su altura (el usuario debe introducir por teclado los dos valores)."
   ]
  },
  {
   "cell_type": "code",
   "execution_count": 8,
   "metadata": {},
   "outputs": [
    {
     "name": "stdout",
     "output_type": "stream",
     "text": [
      "4\n",
      "16\n"
     ]
    }
   ],
   "source": [
    "var3 = input(\"ingrese un numero\") # base\n",
    "var4 = input(\"ingrese un numero\") # altura\n",
    "\n",
    "area = int(var4)*int(var3)\n",
    "perimetro = (area)**2 #area al **2\n",
    "\n",
    "print(area)\n",
    "print(perimetro)\n"
   ]
  },
  {
   "cell_type": "markdown",
   "metadata": {},
   "source": [
    "3) Calcular el resultado de elevar un número entero a otro número entero (por ejemplo, 5 elevado a 3 = 5^3 = 5*5*5)."
   ]
  },
  {
   "cell_type": "code",
   "execution_count": 9,
   "metadata": {},
   "outputs": [
    {
     "name": "stdout",
     "output_type": "stream",
     "text": [
      "1024\n"
     ]
    }
   ],
   "source": [
    "a = 4\n",
    "b = 5\n",
    "rta = a**b\n",
    "print(rta)"
   ]
  },
  {
   "cell_type": "markdown",
   "metadata": {},
   "source": [
    "4) Escribe un programa que convierta grados Celsius a grados Fahrenheit utilizando la fórmula: **F = (C * 9/5) + 32**"
   ]
  },
  {
   "cell_type": "code",
   "execution_count": 12,
   "metadata": {},
   "outputs": [
    {
     "name": "stdout",
     "output_type": "stream",
     "text": [
      "77.0\n"
     ]
    }
   ],
   "source": [
    "c = 25\n",
    "f = (c*9/5) + 32\n",
    "print(f)"
   ]
  },
  {
   "cell_type": "markdown",
   "metadata": {},
   "source": [
    "5) Pedir al usuario su edad y mostrar por pantalla si es mayor de edad o no. (Mayor de edad >= 18)"
   ]
  },
  {
   "cell_type": "code",
   "execution_count": 15,
   "metadata": {},
   "outputs": [
    {
     "name": "stdout",
     "output_type": "stream",
     "text": [
      "Es mayor de edad\n"
     ]
    }
   ],
   "source": [
    "edad = int(input(\"ingrese su edad\"))\n",
    "\n",
    "if edad>= 18:\n",
    "    print(\"Es mayor de edad\")\n",
    "else:\n",
    "    print(\"No es mayor de edad\")     "
   ]
  },
  {
   "cell_type": "markdown",
   "metadata": {},
   "source": [
    "6) Comprobar si el numero ingresado por el usuario es par o impar."
   ]
  },
  {
   "cell_type": "code",
   "execution_count": 17,
   "metadata": {},
   "outputs": [
    {
     "name": "stdout",
     "output_type": "stream",
     "text": [
      "el numero no es par\n"
     ]
    }
   ],
   "source": [
    "var5 = int(input(\"ingrese un valor\"))\n",
    "\n",
    "if var5%2 == 0:\n",
    "    print(\"el numero es par\")\n",
    "else:\n",
    "    print(\"el numero no es par\")    "
   ]
  },
  {
   "cell_type": "markdown",
   "metadata": {},
   "source": [
    "7) Pedir al usuario que ingrese su dirección email y luego mostrar un mensaje indicando si la dirección es válida o no. Una dirección se considerará válida si contiene el símbolo \"@\"."
   ]
  },
  {
   "cell_type": "code",
   "execution_count": 23,
   "metadata": {},
   "outputs": [
    {
     "name": "stdout",
     "output_type": "stream",
     "text": [
      "no es valido el email ingresado\n"
     ]
    }
   ],
   "source": [
    "email = input(\"ingrese su email\")\n",
    "condicion = True\n",
    "if email == \"@\":\n",
    "    condicion\n",
    "    print(\"email valido\")\n",
    "else:\n",
    "    print(\"no es valido el email ingresado\")    "
   ]
  },
  {
   "cell_type": "markdown",
   "metadata": {},
   "source": [
    "8) Dado un número de dos cifras, diseñe un algoritmo que permita obtener el número invertido. Ejemplo, si se introduce 23 que muestre 32. (Recordar que las cadenas pueden tratarse como listas de caracteres)."
   ]
  },
  {
   "cell_type": "code",
   "execution_count": 26,
   "metadata": {},
   "outputs": [
    {
     "name": "stdout",
     "output_type": "stream",
     "text": [
      "52\n"
     ]
    }
   ],
   "source": [
    "a = \"25\"\n",
    "print(a[1]+a[0])"
   ]
  },
  {
   "cell_type": "markdown",
   "metadata": {},
   "source": []
  },
  {
   "cell_type": "markdown",
   "metadata": {},
   "source": [
    "9) Crea un programa que pida al usuario dos números y muestre True si ambos son mayores que 10."
   ]
  },
  {
   "cell_type": "code",
   "execution_count": 2,
   "metadata": {},
   "outputs": [
    {
     "name": "stdout",
     "output_type": "stream",
     "text": [
      "Ambos numero son mayores a 10\n"
     ]
    }
   ],
   "source": [
    "entrada1 = int(input(\"Ingrese un numero\"))\n",
    "entrada2 = int(input(\"Ingrese otro numero\"))\n",
    "condicion = True\n",
    "\n",
    "if entrada1 > 10 and entrada2 > 10:\n",
    "    condicion \n",
    "    print(\"Ambos numeros son mayores a 10\")\n",
    "else:\n",
    "    print(\"Ambos numeros NO son mayores a 10\")"
   ]
  },
  {
   "cell_type": "markdown",
   "metadata": {},
   "source": [
    "10) Escribe un programa que verifique si un número ingresado por el usuario es divisible por 3 y por 5."
   ]
  },
  {
   "cell_type": "code",
   "execution_count": 7,
   "metadata": {},
   "outputs": [
    {
     "name": "stdout",
     "output_type": "stream",
     "text": [
      "Es divisible por 3 y por 5\n"
     ]
    }
   ],
   "source": [
    "e3 = int(input(\"Ingrese un valor\"))\n",
    "\n",
    "if e3 % 3 == 0 and e3 % 5 == 0:\n",
    "    print(\"Es divisible por 3 y por 5\")\n",
    "else:\n",
    "    print(\"No es divisible por 3 y por 5\")    "
   ]
  },
  {
   "cell_type": "markdown",
   "metadata": {},
   "source": [
    "11) Utilizando la información del punto 5, preguntar al usuario si posee carnet de conducir, luego verificar si puede conducir un automóvil."
   ]
  },
  {
   "cell_type": "code",
   "execution_count": 11,
   "metadata": {},
   "outputs": [
    {
     "name": "stdout",
     "output_type": "stream",
     "text": [
      "Puede concucir un automovil\n"
     ]
    }
   ],
   "source": [
    "\"\"\"Posee usted carnet de conducir?\n",
    "- Responda (S) o (s), si su respuesta es SI\n",
    "- Responda (N) o (n), si su respuesta es NO\n",
    "\"\"\"\n",
    "#condicion = True\n",
    "respuesta = input(\"colocar respuesta\")\n",
    "if respuesta == \"s\" or \"S\":\n",
    "    condicion\n",
    "    print(\"Puede concucir un automovil\")\n",
    "else:\n",
    "    print(\"No puede concucir un automovil\")"
   ]
  },
  {
   "cell_type": "markdown",
   "metadata": {},
   "source": [
    "12) Pide al usuario un número y verifica si es positivo y no es mayor que 100."
   ]
  },
  {
   "cell_type": "code",
   "execution_count": 14,
   "metadata": {},
   "outputs": [
    {
     "name": "stdout",
     "output_type": "stream",
     "text": [
      "no cumple con lo pedido\n"
     ]
    }
   ],
   "source": [
    "e4 = int(input(\"Ingrese un valor\"))\n",
    "\n",
    "if e4 > 0 and e4 < 100:\n",
    "    print(\"Numero positivo y menos a 100\")\n",
    "else:\n",
    "    print(\"no cumple con lo pedido\")\n",
    "\n"
   ]
  },
  {
   "cell_type": "markdown",
   "metadata": {},
   "source": [
    "13) Crear un programa que valide si un número ingresado por el usuario es par y mayor que 20."
   ]
  },
  {
   "cell_type": "code",
   "execution_count": 20,
   "metadata": {},
   "outputs": [
    {
     "name": "stdout",
     "output_type": "stream",
     "text": [
      "El numero es par y mayor a 20\n"
     ]
    }
   ],
   "source": [
    "e5 = int(input(\"Ingrese un valor\"))\n",
    "if e5%2 == 0 and e5 > 20:\n",
    "    print(\"El numero es par y mayor a 20\")\n",
    "else:\n",
    "    print(\"No es par ni mayor a 20\")    "
   ]
  },
  {
   "cell_type": "markdown",
   "metadata": {},
   "source": [
    "14) Dada la variable **numero = 5**, realizar la operación necesaria para que número sea igual a 8. Luego imprimir en pantalla el nuevo valor de número y realizar una nueva operación para que el valor de número sea igual a 4 y mostrar en pantalla el nuevo valor."
   ]
  },
  {
   "cell_type": "code",
   "execution_count": 22,
   "metadata": {},
   "outputs": [
    {
     "name": "stdout",
     "output_type": "stream",
     "text": [
      "8\n",
      "4\n"
     ]
    }
   ],
   "source": [
    "numero = 5\n",
    "numero +=3\n",
    "\n",
    "print(numero)\n",
    "numero -=4\n",
    "print(numero)\n",
    "\n"
   ]
  },
  {
   "cell_type": "markdown",
   "metadata": {},
   "source": [
    "15) Dadas las variables altura = \"10\" y base = 5, calcular el área de un triángulo y mostrar el resultado en pantalla. ¿Por qué el resultado es un error? ¿Cómo lo corregirías?"
   ]
  },
  {
   "cell_type": "code",
   "execution_count": 4,
   "metadata": {},
   "outputs": [
    {
     "name": "stdout",
     "output_type": "stream",
     "text": [
      "1010101010\n",
      "50\n"
     ]
    }
   ],
   "source": [
    "#area = base * alt\n",
    "altura = \"10\" \n",
    "base = 5\n",
    "area1 = base*altura\n",
    "print(area1)\n",
    "#el resultado sera un error porque la variable altura es un tipo de dato de cadena\n",
    "altura = 10\n",
    "area = base*altura\n",
    "print(area)"
   ]
  },
  {
   "cell_type": "markdown",
   "metadata": {},
   "source": [
    "16) Crea un programa que calcule el promedio de tres calificaciones ingresadas por el usuario, y comprobar si el alumno aprobó o no (aprueba con nota mayor a 6)."
   ]
  },
  {
   "cell_type": "code",
   "execution_count": 3,
   "metadata": {},
   "outputs": [
    {
     "name": "stdout",
     "output_type": "stream",
     "text": [
      "El alumno ha aprobado el examen\n"
     ]
    }
   ],
   "source": [
    "calif_1 = int(input(\"Ingrese 1ra califcacion\"))\n",
    "calif_2 = int(input(\"Ingrese 2da califcacion\"))\n",
    "calif_3 = int(input(\"Ingrese 3ra califcacion\"))\n",
    "\n",
    "prom = (calif_1+calif_2+calif_3)/3\n",
    "\n",
    "if prom > 6:\n",
    "    print(\"El alumno ha aprobado el examen\")\n",
    "else:   \n",
    "    print(\"El alumno no ha aprobado el examen\") "
   ]
  },
  {
   "cell_type": "markdown",
   "metadata": {},
   "source": [
    "17) Pide al usuario su edad y calcula cuántos días, horas y minutos ha vivido aproximadamente (asumiendo 365 días por año)."
   ]
  },
  {
   "cell_type": "code",
   "execution_count": 12,
   "metadata": {},
   "outputs": [
    {
     "name": "stdout",
     "output_type": "stream",
     "text": [
      "El usuario ha vivido aproxdimadamente 7300 años, 175200 dias y 10512000 horas\n"
     ]
    }
   ],
   "source": [
    "edad1 = int(input(\"Ingrese su edad\"))\n",
    "\n",
    "años = (edad1*365)\n",
    "horas = (años*24)\n",
    "dias = (horas*60)\n",
    "\n",
    "print(\"El usuario ha vivido aproxdimadamente\",años ,\"años,\",horas ,\"dias y\",dias,\"horas\")"
   ]
  },
  {
   "cell_type": "markdown",
   "metadata": {},
   "source": [
    "18) Crea un programa que verifique si un número ingresado por el usuario es múltiplo de 4 y de 6 al mismo tiempo."
   ]
  },
  {
   "cell_type": "code",
   "execution_count": 15,
   "metadata": {},
   "outputs": [
    {
     "name": "stdout",
     "output_type": "stream",
     "text": [
      "El numero no es multiplo de 4 y 6\n"
     ]
    }
   ],
   "source": [
    "num = int(input(\"Ingrese un numero\"))\n",
    "\n",
    "if num%4 == 0 and num%6 == 0:\n",
    "    print(\"El numero es multiplo de 4 y 6\")\n",
    "else:\n",
    "    print(\"El numero no es multiplo de 4 y 6\")"
   ]
  },
  {
   "cell_type": "markdown",
   "metadata": {},
   "source": [
    "19) "
   ]
  }
 ],
 "metadata": {
  "kernelspec": {
   "display_name": "Python 3",
   "language": "python",
   "name": "python3"
  },
  "language_info": {
   "codemirror_mode": {
    "name": "ipython",
    "version": 3
   },
   "file_extension": ".py",
   "mimetype": "text/x-python",
   "name": "python",
   "nbconvert_exporter": "python",
   "pygments_lexer": "ipython3",
   "version": "3.12.0"
  }
 },
 "nbformat": 4,
 "nbformat_minor": 2
}
